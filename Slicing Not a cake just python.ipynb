{
  "nbformat": 4,
  "nbformat_minor": 0,
  "metadata": {
    "colab": {
      "name": "Untitled1.ipynb",
      "provenance": [],
      "authorship_tag": "ABX9TyNtw3R+3uBO0U0akZnQwCL4",
      "include_colab_link": true
    },
    "kernelspec": {
      "name": "python3",
      "display_name": "Python 3"
    }
  },
  "cells": [
    {
      "cell_type": "markdown",
      "metadata": {
        "id": "view-in-github",
        "colab_type": "text"
      },
      "source": [
        "<a href=\"https://colab.research.google.com/github/ObidulKadir/Python_Basic/blob/master/Slicing%20Not%20a%20cake%20just%20python.ipynb\" target=\"_parent\"><img src=\"https://colab.research.google.com/assets/colab-badge.svg\" alt=\"Open In Colab\"/></a>"
      ]
    },
    {
      "cell_type": "code",
      "metadata": {
        "id": "vokRqIssIv4E",
        "colab_type": "code",
        "colab": {
          "base_uri": "https://localhost:8080/",
          "height": 33
        },
        "outputId": "806b9843-2d77-461b-ae8c-6d8bc842e239"
      },
      "source": [
        "car_name = \"marcedse\"\n",
        "print(car_name)"
      ],
      "execution_count": 1,
      "outputs": [
        {
          "output_type": "stream",
          "text": [
            "marcedes\n"
          ],
          "name": "stdout"
        }
      ]
    },
    {
      "cell_type": "markdown",
      "metadata": {
        "id": "3E6K8vKbPZKo",
        "colab_type": "text"
      },
      "source": [
        "# #[start:end]"
      ]
    },
    {
      "cell_type": "code",
      "metadata": {
        "id": "v-VJihJ5PYfC",
        "colab_type": "code",
        "colab": {
          "base_uri": "https://localhost:8080/",
          "height": 67
        },
        "outputId": "ea133f01-03a4-4bbb-e44d-f73ec1d3fe5c"
      },
      "source": [
        "print(\"first try: \" +car_name[-5:0] +\"failed\")\n",
        "print(\"2nd try : \" +car_name[-5:] +\"\\npassed\")"
      ],
      "execution_count": 10,
      "outputs": [
        {
          "output_type": "stream",
          "text": [
            "first try: failed\n",
            "2nd try : cedes\n",
            "passed\n"
          ],
          "name": "stdout"
        }
      ]
    },
    {
      "cell_type": "code",
      "metadata": {
        "id": "lyvbrM6RPJMM",
        "colab_type": "code",
        "colab": {
          "base_uri": "https://localhost:8080/",
          "height": 67
        },
        "outputId": "f6c1177e-932f-4595-d847-0b2186e09ec4"
      },
      "source": [
        "print(car_name[0:5])\n",
        "print(car_name[5:])\n",
        "print(car_name[:5])"
      ],
      "execution_count": 11,
      "outputs": [
        {
          "output_type": "stream",
          "text": [
            "marce\n",
            "des\n",
            "marce\n"
          ],
          "name": "stdout"
        }
      ]
    },
    {
      "cell_type": "markdown",
      "metadata": {
        "id": "onvFooH-QKj6",
        "colab_type": "text"
      },
      "source": [
        "# #[start:end:step]"
      ]
    },
    {
      "cell_type": "code",
      "metadata": {
        "id": "ezkpZs0FQRRn",
        "colab_type": "code",
        "colab": {
          "base_uri": "https://localhost:8080/",
          "height": 100
        },
        "outputId": "9d83fd63-cca8-4ac8-e501-b9bb73f09687"
      },
      "source": [
        "print(car_name[0:5:1])\n",
        "print(car_name[0:10:1])\n",
        "print(car_name[0:10:2])\n",
        "print(car_name[0:10:3])\n",
        "print(car_name[0:7:4])"
      ],
      "execution_count": 16,
      "outputs": [
        {
          "output_type": "stream",
          "text": [
            "marce\n",
            "marcedes\n",
            "mree\n",
            "mce\n",
            "me\n"
          ],
          "name": "stdout"
        }
      ]
    },
    {
      "cell_type": "code",
      "metadata": {
        "id": "T9env0UFQ3rd",
        "colab_type": "code",
        "colab": {
          "base_uri": "https://localhost:8080/",
          "height": 251
        },
        "outputId": "b44926ee-8784-4884-834b-2e0efacc070f"
      },
      "source": [
        "cars = [\"marcedrs\",\"BMW\",\"toyota\",\"ferrari\"]\n",
        "print(cars)\n",
        "print(type(cars))\n",
        "cars.append(\"bugati\")\n",
        "print(cars)\n",
        "print(len(cars))\n",
        "print(cars[0:3])\n",
        "print(cars.reverse())\n",
        "print(cars[0:3:1])\n",
        "print(cars[1][0:3])\n",
        "print(cars.reverse())#its reversing the value.\n",
        "print(cars)\n",
        "print(cars[0][0:6:1])\n",
        "print(cars[0][0:6:3])\n",
        "print(cars[0][::-1])\n",
        "print(cars[3][:3:-1])"
      ],
      "execution_count": 52,
      "outputs": [
        {
          "output_type": "stream",
          "text": [
            "['marcedrs', 'BMW', 'toyota', 'ferrari']\n",
            "<class 'list'>\n",
            "['marcedrs', 'BMW', 'toyota', 'ferrari', 'bugati']\n",
            "5\n",
            "['marcedrs', 'BMW', 'toyota']\n",
            "None\n",
            "['bugati', 'ferrari', 'toyota']\n",
            "fer\n",
            "None\n",
            "['marcedrs', 'BMW', 'toyota', 'ferrari', 'bugati']\n",
            "marced\n",
            "mc\n",
            "srdecram\n",
            "ira\n"
          ],
          "name": "stdout"
        }
      ]
    },
    {
      "cell_type": "code",
      "metadata": {
        "id": "pD7T8QJZiWQT",
        "colab_type": "code",
        "colab": {
          "base_uri": "https://localhost:8080/",
          "height": 212
        },
        "outputId": "457244ef-f5e7-4589-bb42-2ae4fd88e8b6"
      },
      "source": [
        "games_instrument = \"xbox 360 | 5000 | 2.62ghz\"\n",
        "print(games_instrument.index(\"|\"))\n",
        "print(games_instrument[0:games_instrument.index[\"|\"]])"
      ],
      "execution_count": 56,
      "outputs": [
        {
          "output_type": "stream",
          "text": [
            "9\n"
          ],
          "name": "stdout"
        },
        {
          "output_type": "error",
          "ename": "TypeError",
          "evalue": "ignored",
          "traceback": [
            "\u001b[0;31m---------------------------------------------------------------------------\u001b[0m",
            "\u001b[0;31mTypeError\u001b[0m                                 Traceback (most recent call last)",
            "\u001b[0;32m<ipython-input-56-80d7a31d49c4>\u001b[0m in \u001b[0;36m<module>\u001b[0;34m()\u001b[0m\n\u001b[1;32m      1\u001b[0m \u001b[0mgames_instrument\u001b[0m \u001b[0;34m=\u001b[0m \u001b[0;34m\"xbox 360 | 5000 | 2.62ghz\"\u001b[0m\u001b[0;34m\u001b[0m\u001b[0;34m\u001b[0m\u001b[0m\n\u001b[1;32m      2\u001b[0m \u001b[0mprint\u001b[0m\u001b[0;34m(\u001b[0m\u001b[0mgames_instrument\u001b[0m\u001b[0;34m.\u001b[0m\u001b[0mindex\u001b[0m\u001b[0;34m(\u001b[0m\u001b[0;34m\"|\"\u001b[0m\u001b[0;34m)\u001b[0m\u001b[0;34m)\u001b[0m\u001b[0;34m\u001b[0m\u001b[0;34m\u001b[0m\u001b[0m\n\u001b[0;32m----> 3\u001b[0;31m \u001b[0mprint\u001b[0m\u001b[0;34m(\u001b[0m\u001b[0mgames_instrument\u001b[0m\u001b[0;34m[\u001b[0m\u001b[0;36m0\u001b[0m\u001b[0;34m:\u001b[0m\u001b[0mgames_instrument\u001b[0m\u001b[0;34m.\u001b[0m\u001b[0mindex\u001b[0m\u001b[0;34m[\u001b[0m\u001b[0;34m\"|\"\u001b[0m\u001b[0;34m]\u001b[0m\u001b[0;34m]\u001b[0m\u001b[0;34m)\u001b[0m\u001b[0;34m\u001b[0m\u001b[0;34m\u001b[0m\u001b[0m\n\u001b[0m",
            "\u001b[0;31mTypeError\u001b[0m: 'builtin_function_or_method' object is not subscriptable"
          ]
        }
      ]
    },
    {
      "cell_type": "markdown",
      "metadata": {
        "id": "2mcXeVXXkdql",
        "colab_type": "text"
      },
      "source": [
        "In colab ,Its type slicing is not working but others python interpreter its working.\n",
        "But if we assume that in a variable then its working."
      ]
    },
    {
      "cell_type": "code",
      "metadata": {
        "colab_type": "code",
        "id": "-yhQSKFBjfwZ",
        "colab": {
          "base_uri": "https://localhost:8080/",
          "height": 100
        },
        "outputId": "9e44b0d7-b7cd-4ae3-d3c9-64eaf987c063"
      },
      "source": [
        "games_instrument = \"xbox 360 | 5000 | 2.62ghz\"\n",
        "print(games_instrument.index(\"|\"))\n",
        "bal_games = games_instrument.index(\"|\")\n",
        "print(bal_games)\n",
        "print(games_instrument[:bal_games])\n",
        "new_instrument = bal_games + 1\n",
        "print(new_instrument)\n",
        "print(games_instrument[new_instrument + 1:])"
      ],
      "execution_count": 64,
      "outputs": [
        {
          "output_type": "stream",
          "text": [
            "9\n",
            "9\n",
            "xbox 360 \n",
            "10\n",
            "5000 | 2.62ghz\n"
          ],
          "name": "stdout"
        }
      ]
    }
  ]
}