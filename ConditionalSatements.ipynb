{
  "nbformat": 4,
  "nbformat_minor": 0,
  "metadata": {
    "colab": {
      "name": "ConditionalSatements.ipynb",
      "provenance": [],
      "authorship_tag": "ABX9TyNhHCMC7Ya7FC9cW3nsZUOA",
      "include_colab_link": true
    },
    "kernelspec": {
      "name": "python3",
      "display_name": "Python 3"
    }
  },
  "cells": [
    {
      "cell_type": "markdown",
      "metadata": {
        "id": "view-in-github",
        "colab_type": "text"
      },
      "source": [
        "<a href=\"https://colab.research.google.com/github/ObidulKadir/Python_Basic/blob/master/ConditionalSatements.ipynb\" target=\"_parent\"><img src=\"https://colab.research.google.com/assets/colab-badge.svg\" alt=\"Open In Colab\"/></a>"
      ]
    },
    {
      "cell_type": "code",
      "metadata": {
        "id": "ZtntuX0krR_8",
        "colab_type": "code",
        "colab": {
          "base_uri": "https://localhost:8080/",
          "height": 33
        },
        "outputId": "b3f7df90-f620-4d2d-9a68-1f272e1327d0"
      },
      "source": [
        "#if,elif,else\n",
        "\n",
        "number1 = 100\n",
        "number2 = 200\n",
        "\n",
        "if(number1>number2):\n",
        "  print('print from if blocks')\n",
        "elif(number1==number2):\n",
        "  print('equal values')\n",
        "else:\n",
        "  print('number 2 is greater than number 1')"
      ],
      "execution_count": 1,
      "outputs": [
        {
          "output_type": "stream",
          "text": [
            "number 2 is greater than number 1\n"
          ],
          "name": "stdout"
        }
      ]
    },
    {
      "cell_type": "code",
      "metadata": {
        "id": "jAqphFbOshIE",
        "colab_type": "code",
        "colab": {
          "base_uri": "https://localhost:8080/",
          "height": 33
        },
        "outputId": "70ffa7a2-3feb-49f6-ad6b-4f1f22c053ef"
      },
      "source": [
        "if 2:\n",
        "  print('print if blocks')\n",
        "else:\n",
        "  print('else statements')"
      ],
      "execution_count": 2,
      "outputs": [
        {
          "output_type": "stream",
          "text": [
            "print if blocks\n"
          ],
          "name": "stdout"
        }
      ]
    },
    {
      "cell_type": "code",
      "metadata": {
        "id": "IXDH75qos8bS",
        "colab_type": "code",
        "colab": {
          "base_uri": "https://localhost:8080/",
          "height": 33
        },
        "outputId": "f2d00d03-e83a-4349-d80e-9b4f736acd97"
      },
      "source": [
        "if 0:\n",
        "  print('print if blocks')\n",
        "else:\n",
        "  print('else statements')"
      ],
      "execution_count": 3,
      "outputs": [
        {
          "output_type": "stream",
          "text": [
            "else statements\n"
          ],
          "name": "stdout"
        }
      ]
    },
    {
      "cell_type": "markdown",
      "metadata": {
        "id": "3ENj5r-5tCs_",
        "colab_type": "text"
      },
      "source": [
        "In python, noneZero values consider as a true.like 1 2 4,\n",
        "others 0 is considered as false."
      ]
    },
    {
      "cell_type": "code",
      "metadata": {
        "id": "8j-dcnGhtV_S",
        "colab_type": "code",
        "colab": {
          "base_uri": "https://localhost:8080/",
          "height": 33
        },
        "outputId": "2929a2b1-951b-4312-e2c9-298792e6f581"
      },
      "source": [
        "if 0:\n",
        "  print('print if blocks')\n",
        "else:\n",
        "  print('else statements')"
      ],
      "execution_count": 5,
      "outputs": [
        {
          "output_type": "stream",
          "text": [
            "else statements\n"
          ],
          "name": "stdout"
        }
      ]
    },
    {
      "cell_type": "code",
      "metadata": {
        "id": "_137zxL8uKtE",
        "colab_type": "code",
        "colab": {
          "base_uri": "https://localhost:8080/",
          "height": 67
        },
        "outputId": "2b1b18e8-2a59-476a-c0ba-357c4b7fc8ee"
      },
      "source": [
        "num1 = input(\"Enter your first number : \")\n",
        "num2 = input(\"Enter your 2nd number :\")\n",
        "\n",
        "if(num1==num2):\n",
        "  print('yahoo, i got equal values')\n",
        "elif(num1>num2):\n",
        "  print('oh nooo,num1 is  greater than num2')\n",
        "else:\n",
        "  print('oh shit,num 2 is greater than num2')"
      ],
      "execution_count": 10,
      "outputs": [
        {
          "output_type": "stream",
          "text": [
            "Enter your first number : 500\n",
            "Enter your 2nd number :6000\n",
            "oh shit,num 2 is greater than num2\n"
          ],
          "name": "stdout"
        }
      ]
    },
    {
      "cell_type": "markdown",
      "metadata": {
        "id": "MBrH2oZKvrfN",
        "colab_type": "text"
      },
      "source": [
        "For LOOP.\n",
        "\n",
        "for [variable_Name] in [iterable_Datatypes]:\n",
        "\n",
        "    statements\n",
        "\n",
        "#iterable_datatypes\n",
        "list,tuple,set,dict,str"
      ]
    },
    {
      "cell_type": "code",
      "metadata": {
        "id": "YmQLNyyGvpv2",
        "colab_type": "code",
        "colab": {
          "base_uri": "https://localhost:8080/",
          "height": 100
        },
        "outputId": "b38f5461-6dc0-4633-c6ec-6ccb2eb7106a"
      },
      "source": [
        "list = [10,20,30,40,50]\n",
        "for value in list:\n",
        "    print(value)"
      ],
      "execution_count": 11,
      "outputs": [
        {
          "output_type": "stream",
          "text": [
            "10\n",
            "20\n",
            "30\n",
            "40\n",
            "50\n"
          ],
          "name": "stdout"
        }
      ]
    },
    {
      "cell_type": "code",
      "metadata": {
        "id": "BF__kJKFw9UA",
        "colab_type": "code",
        "colab": {
          "base_uri": "https://localhost:8080/",
          "height": 100
        },
        "outputId": "d34f5d00-c1db-472e-a2c5-b02c5fa5a75a"
      },
      "source": [
        "sum = 0\n",
        "for value in list:\n",
        "  sum = sum + value\n",
        "  print(sum)"
      ],
      "execution_count": 12,
      "outputs": [
        {
          "output_type": "stream",
          "text": [
            "10\n",
            "30\n",
            "60\n",
            "100\n",
            "150\n"
          ],
          "name": "stdout"
        }
      ]
    },
    {
      "cell_type": "code",
      "metadata": {
        "id": "Vh2pGhk91OQJ",
        "colab_type": "code",
        "colab": {
          "base_uri": "https://localhost:8080/",
          "height": 33
        },
        "outputId": "1e8021ec-9155-4a5a-bbd1-6d359cad4ba6"
      },
      "source": [
        "l = [10,20,30,40,50,60,70,80,90]\n",
        "key = 20\n",
        "\n",
        "for value in l:\n",
        "  if value == key:\n",
        "    print('Element found')\n",
        "    break\n",
        "  else:\n",
        "    continue\n",
        "\n"
      ],
      "execution_count": 31,
      "outputs": [
        {
          "output_type": "stream",
          "text": [
            "Element found\n"
          ],
          "name": "stdout"
        }
      ]
    },
    {
      "cell_type": "code",
      "metadata": {
        "id": "yYS-gKEd2cG8",
        "colab_type": "code",
        "colab": {
          "base_uri": "https://localhost:8080/",
          "height": 33
        },
        "outputId": "16e1291b-bc00-4820-c39e-dd8c9d54fa7d"
      },
      "source": [
        "key= 200\n",
        "for index,value in enumerate(l):\n",
        "  if value == key:\n",
        "    print('Element found  at index',index)\n",
        "    break\n",
        "  else:\n",
        "    continue\n",
        "else:\n",
        "  print(\"Outside of loop\")"
      ],
      "execution_count": 32,
      "outputs": [
        {
          "output_type": "stream",
          "text": [
            "Outside of loop\n"
          ],
          "name": "stdout"
        }
      ]
    },
    {
      "cell_type": "markdown",
      "metadata": {
        "id": "4snwkAiz30ic",
        "colab_type": "text"
      },
      "source": [
        "# `A lot of times when dealing with iterators, we also get a need to keep a count of iterations. Python eases the programmers’ task by providing a built-in function enumerate() for this task.\n",
        "Enumerate() method adds a counter to an iterable and returns it in a form of enumerate object. This enumerate object can then be used directly in for loops or be converted into a list of tuples using list() method`"
      ]
    }
  ]
}