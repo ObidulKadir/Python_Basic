{
  "nbformat": 4,
  "nbformat_minor": 0,
  "metadata": {
    "colab": {
      "name": "Untitled3.ipynb",
      "provenance": [],
      "authorship_tag": "ABX9TyOGk0t4t0grp4X3DKIN09m/",
      "include_colab_link": true
    },
    "kernelspec": {
      "name": "python3",
      "display_name": "Python 3"
    }
  },
  "cells": [
    {
      "cell_type": "markdown",
      "metadata": {
        "id": "view-in-github",
        "colab_type": "text"
      },
      "source": [
        "<a href=\"https://colab.research.google.com/github/ObidulKadir/Python_Basic/blob/master/Generators_Function.ipynb\" target=\"_parent\"><img src=\"https://colab.research.google.com/assets/colab-badge.svg\" alt=\"Open In Colab\"/></a>"
      ]
    },
    {
      "cell_type": "markdown",
      "metadata": {
        "id": "8-GKPqq6em-l",
        "colab_type": "text"
      },
      "source": [
        "\n",
        "\n",
        "```\n",
        "Generators():\n",
        "generators is just like normal functions but its used ***yield*** insted of ***return***.\n",
        "\n",
        "its very helpful because its memory consumpation operation.\n",
        "```\n",
        "\n"
      ]
    },
    {
      "cell_type": "code",
      "metadata": {
        "id": "qI3MsZKlfXU2",
        "colab_type": "code",
        "colab": {
          "base_uri": "https://localhost:8080/",
          "height": 35
        },
        "outputId": "0687eac2-65ec-4e26-879a-edc26bada725"
      },
      "source": [
        "def fib():\n",
        "  first_num = 0\n",
        "  second_num = 1\n",
        "  while(True):\n",
        "    next_value = first_num + second_num\n",
        "    yield next_value\n",
        "    first_num, second_num = second_num,next_value\n",
        "\n",
        "g = fib()\n",
        "print(g)"
      ],
      "execution_count": 9,
      "outputs": [
        {
          "output_type": "stream",
          "text": [
            "<generator object fib at 0x7fa7ab37b360>\n"
          ],
          "name": "stdout"
        }
      ]
    },
    {
      "cell_type": "markdown",
      "metadata": {
        "id": "uTqaIx46h8X0",
        "colab_type": "text"
      },
      "source": [
        "\n",
        "\n",
        "```\n",
        "SO output shows the generator expression object.So here if we want ta output from that object we have to use next()\n",
        "```\n",
        "\n"
      ]
    },
    {
      "cell_type": "code",
      "metadata": {
        "id": "08dYUhHkiOVe",
        "colab_type": "code",
        "colab": {
          "base_uri": "https://localhost:8080/",
          "height": 199
        },
        "outputId": "c521a38b-9e1a-4a14-93cf-f81287b291ef"
      },
      "source": [
        "for values in range(10):\n",
        "  print(next(g))"
      ],
      "execution_count": 13,
      "outputs": [
        {
          "output_type": "stream",
          "text": [
            "21\n",
            "34\n",
            "55\n",
            "89\n",
            "144\n",
            "233\n",
            "377\n",
            "610\n",
            "987\n",
            "1597\n"
          ],
          "name": "stdout"
        }
      ]
    },
    {
      "cell_type": "markdown",
      "metadata": {
        "id": "ZXEHN9mWithV",
        "colab_type": "text"
      },
      "source": [
        "\n",
        "\n",
        "```\n",
        "its starting the print from 21 .Interesting thing are happened here we are print some values from first so we range(10) that values its starting print after that .generators are create function state.so its very helpful. \n",
        "```\n",
        "\n"
      ]
    },
    {
      "cell_type": "code",
      "metadata": {
        "id": "YPmYF7tajTHO",
        "colab_type": "code",
        "colab": {
          "base_uri": "https://localhost:8080/",
          "height": 381
        },
        "outputId": "af766d97-32fc-4337-95f8-a5653fa7e371"
      },
      "source": [
        "for i in range(20):\n",
        "  print(next(g))"
      ],
      "execution_count": 15,
      "outputs": [
        {
          "output_type": "stream",
          "text": [
            "2584\n",
            "4181\n",
            "6765\n",
            "10946\n",
            "17711\n",
            "28657\n",
            "46368\n",
            "75025\n",
            "121393\n",
            "196418\n",
            "317811\n",
            "514229\n",
            "832040\n",
            "1346269\n",
            "2178309\n",
            "3524578\n",
            "5702887\n",
            "9227465\n",
            "14930352\n",
            "24157817\n"
          ],
          "name": "stdout"
        }
      ]
    },
    {
      "cell_type": "markdown",
      "metadata": {
        "id": "y-yr8qqBjdJo",
        "colab_type": "text"
      },
      "source": [
        "\n",
        "\n",
        "---\n",
        "\n",
        "\n",
        "\n",
        "```\n",
        "here first value are 2584 which is sum of previous two 987\n",
        "1597\n",
        "```\n",
        "\n"
      ]
    },
    {
      "cell_type": "code",
      "metadata": {
        "id": "P_MO2oLVjq8I",
        "colab_type": "code",
        "colab": {}
      },
      "source": [
        ""
      ],
      "execution_count": null,
      "outputs": []
    }
  ]
}