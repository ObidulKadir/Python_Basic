{
  "nbformat": 4,
  "nbformat_minor": 0,
  "metadata": {
    "colab": {
      "name": "iterator_iteratortools.ipynb",
      "provenance": [],
      "authorship_tag": "ABX9TyMPQ9G+7BOepOnqOwgjxMuM",
      "include_colab_link": true
    },
    "kernelspec": {
      "name": "python3",
      "display_name": "Python 3"
    }
  },
  "cells": [
    {
      "cell_type": "markdown",
      "metadata": {
        "id": "view-in-github",
        "colab_type": "text"
      },
      "source": [
        "<a href=\"https://colab.research.google.com/github/ObidulKadir/Python_Basic/blob/master/iterator_iteratortools.ipynb\" target=\"_parent\"><img src=\"https://colab.research.google.com/assets/colab-badge.svg\" alt=\"Open In Colab\"/></a>"
      ]
    },
    {
      "cell_type": "code",
      "metadata": {
        "id": "McWZv0Rxk_0R",
        "colab_type": "code",
        "colab": {
          "base_uri": "https://localhost:8080/",
          "height": 35
        },
        "outputId": "e83e843f-3e93-4b5d-919d-6ad3ae9fcef7"
      },
      "source": [
        "l = [10,20,30,40,50]\n",
        "l2 = iter(l)\n",
        "print(l2)"
      ],
      "execution_count": 2,
      "outputs": [
        {
          "output_type": "stream",
          "text": [
            "<list_iterator object at 0x7f64197a09e8>\n"
          ],
          "name": "stdout"
        }
      ]
    },
    {
      "cell_type": "markdown",
      "metadata": {
        "id": "mZH7tnATlTUh",
        "colab_type": "text"
      },
      "source": [
        "its creating a object .To fetch the value we can use here generators function next()"
      ]
    },
    {
      "cell_type": "code",
      "metadata": {
        "id": "Vi5-aTLdla9U",
        "colab_type": "code",
        "colab": {
          "base_uri": "https://localhost:8080/",
          "height": 35
        },
        "outputId": "9bca41d9-4676-409f-97ab-ce1c94641c25"
      },
      "source": [
        "print(next(l2))"
      ],
      "execution_count": 3,
      "outputs": [
        {
          "output_type": "stream",
          "text": [
            "10\n"
          ],
          "name": "stdout"
        }
      ]
    },
    {
      "cell_type": "code",
      "metadata": {
        "id": "mribrsJTlflN",
        "colab_type": "code",
        "colab": {
          "base_uri": "https://localhost:8080/",
          "height": 108
        },
        "outputId": "79d5add1-8aab-4c0c-dc9e-5b2e6f961b38"
      },
      "source": [
        "for i in l:\n",
        "  print(i)"
      ],
      "execution_count": 4,
      "outputs": [
        {
          "output_type": "stream",
          "text": [
            "10\n",
            "20\n",
            "30\n",
            "40\n",
            "50\n"
          ],
          "name": "stdout"
        }
      ]
    },
    {
      "cell_type": "markdown",
      "metadata": {
        "id": "DeoriPGxllbL",
        "colab_type": "text"
      },
      "source": [
        "\n",
        "\n",
        "```\n",
        "Normally we can iterate the value using for loops.\n",
        "```\n",
        "\n"
      ]
    },
    {
      "cell_type": "code",
      "metadata": {
        "id": "imma6ps7ls91",
        "colab_type": "code",
        "colab": {
          "base_uri": "https://localhost:8080/",
          "height": 35
        },
        "outputId": "acf87621-86e5-46e8-a6d6-7628ebb65fd4"
      },
      "source": [
        "import itertools\n",
        "l1 = [10,20,30,40,50,60]\n",
        "l2 = [100,200,300,400,500,600]\n",
        "l3 = [1000,2000]\n",
        "\n",
        "i = itertools.chain(l1,l2,l3)\n",
        "print(i)"
      ],
      "execution_count": 5,
      "outputs": [
        {
          "output_type": "stream",
          "text": [
            "<itertools.chain object at 0x7f6411ac5ef0>\n"
          ],
          "name": "stdout"
        }
      ]
    },
    {
      "cell_type": "markdown",
      "metadata": {
        "id": "NC2oDlaZmIKN",
        "colab_type": "text"
      },
      "source": [
        "Same way ,its creating the object so we can get the values loops.Loops is very efficent in iterable process."
      ]
    },
    {
      "cell_type": "code",
      "metadata": {
        "id": "Y1FZWSy3mVLZ",
        "colab_type": "code",
        "colab": {
          "base_uri": "https://localhost:8080/",
          "height": 272
        },
        "outputId": "9fbf62e1-73b5-4d74-caba-5c782114edd8"
      },
      "source": [
        "for values in i:\n",
        "  print(values)"
      ],
      "execution_count": 6,
      "outputs": [
        {
          "output_type": "stream",
          "text": [
            "10\n",
            "20\n",
            "30\n",
            "40\n",
            "50\n",
            "60\n",
            "100\n",
            "200\n",
            "300\n",
            "400\n",
            "500\n",
            "600\n",
            "1000\n",
            "2000\n"
          ],
          "name": "stdout"
        }
      ]
    }
  ]
}