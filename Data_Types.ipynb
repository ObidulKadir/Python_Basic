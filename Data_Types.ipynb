{
  "nbformat": 4,
  "nbformat_minor": 0,
  "metadata": {
    "colab": {
      "name": "Data Types.ipynb",
      "provenance": [],
      "collapsed_sections": [],
      "authorship_tag": "ABX9TyPbg9jcGpuTqWcoRXRzt2QS",
      "include_colab_link": true
    },
    "kernelspec": {
      "name": "python3",
      "display_name": "Python 3"
    }
  },
  "cells": [
    {
      "cell_type": "markdown",
      "metadata": {
        "id": "view-in-github",
        "colab_type": "text"
      },
      "source": [
        "<a href=\"https://colab.research.google.com/github/ObidulKadir/Python_Basic/blob/master/Data_Types.ipynb\" target=\"_parent\"><img src=\"https://colab.research.google.com/assets/colab-badge.svg\" alt=\"Open In Colab\"/></a>"
      ]
    },
    {
      "cell_type": "markdown",
      "metadata": {
        "id": "UsmEMz93mdWj",
        "colab_type": "text"
      },
      "source": [
        "# **Build-in Data types are-**\n",
        "\n",
        "\n",
        "```\n",
        "Text Type:\tstr\n",
        "Numeric Types:\tint, float, complex\n",
        "Sequence Types:\tlist, tuple, range\n",
        "Mapping Type:\tdict\n",
        "Set Types:\tset, frozenset\n",
        "Boolean Type:\tbool\n",
        "Binary Types:\tbytes, bytearray, memoryview\n",
        "```\n",
        "\n",
        "\n",
        "\n"
      ]
    },
    {
      "cell_type": "markdown",
      "metadata": {
        "id": "pZkuJGdWBuHJ",
        "colab_type": "text"
      },
      "source": [
        "***Mutable vs Immutable***\n",
        "\n",
        "```\n",
        "\n",
        "Mutable means which can be change like update,insert,delete.\n",
        "but,immutable which is unchangeable if defined it once.\n",
        "`Mutable are-list,dict, set etc`\n",
        "Immutable are -intger,float,string,tuples etc\n",
        "```\n",
        "\n"
      ]
    },
    {
      "cell_type": "code",
      "metadata": {
        "id": "FCnGCfOtniLz",
        "colab_type": "code",
        "colab": {
          "base_uri": "https://localhost:8080/",
          "height": 128
        },
        "outputId": "5732e735-6c67-48a8-9d61-479d250d33dc"
      },
      "source": [
        "str b = \"string\"\n",
        "print(type(b))"
      ],
      "execution_count": 2,
      "outputs": [
        {
          "output_type": "error",
          "ename": "SyntaxError",
          "evalue": "ignored",
          "traceback": [
            "\u001b[0;36m  File \u001b[0;32m\"<ipython-input-2-8fda6e863afb>\"\u001b[0;36m, line \u001b[0;32m1\u001b[0m\n\u001b[0;31m    str b = \"string\"\u001b[0m\n\u001b[0m        ^\u001b[0m\n\u001b[0;31mSyntaxError\u001b[0m\u001b[0;31m:\u001b[0m invalid syntax\n"
          ]
        }
      ]
    },
    {
      "cell_type": "code",
      "metadata": {
        "id": "De207WUuuufj",
        "colab_type": "code",
        "colab": {}
      },
      "source": [
        ""
      ],
      "execution_count": null,
      "outputs": []
    },
    {
      "cell_type": "markdown",
      "metadata": {
        "id": "zg4zc8I2n6bp",
        "colab_type": "text"
      },
      "source": [
        "So,Above the str is not workable because  python is object-oriented and not statically typed.**So????**\n",
        "its very easy to write and magnificently take."
      ]
    },
    {
      "cell_type": "code",
      "metadata": {
        "id": "Omkbt3u-ojQN",
        "colab_type": "code",
        "colab": {
          "base_uri": "https://localhost:8080/",
          "height": 33
        },
        "outputId": "05256632-c713-4dbb-a486-76f3befe3459"
      },
      "source": [
        "b = \"string\"\n",
        "print(b,type(b))\n"
      ],
      "execution_count": 3,
      "outputs": [
        {
          "output_type": "stream",
          "text": [
            "string <class 'str'>\n"
          ],
          "name": "stdout"
        }
      ]
    },
    {
      "cell_type": "markdown",
      "metadata": {
        "id": "_2ER6oLqosh7",
        "colab_type": "text"
      },
      "source": [
        "Amazing, easily handle able.If we write in text into the quotation it will be a string type.Double quote ,single quote or triple quote is decleare as a string type.\n"
      ]
    },
    {
      "cell_type": "code",
      "metadata": {
        "id": "kuQfp0PgpWxg",
        "colab_type": "code",
        "colab": {
          "base_uri": "https://localhost:8080/",
          "height": 84
        },
        "outputId": "1237cc19-00de-4a9b-c2bc-db27b3a9d030"
      },
      "source": [
        "b= 'string'\n",
        "print(b)\n",
        "print(id(b))\n",
        "b = 'amazing'\n",
        "print(b)\n",
        "print(id(b))"
      ],
      "execution_count": 4,
      "outputs": [
        {
          "output_type": "stream",
          "text": [
            "string\n",
            "140435196923720\n",
            "amazing\n",
            "140434622999832\n"
          ],
          "name": "stdout"
        }
      ]
    },
    {
      "cell_type": "markdown",
      "metadata": {
        "id": "gbdfMQeHpysI",
        "colab_type": "text"
      },
      "source": [
        "Here, we can see variable b store the data in 140435196923720 .the we replace the variables by amazing .it stores the another location.But,we defined same values in different values its store at same location.In that location its both variable will refer same values."
      ]
    },
    {
      "cell_type": "code",
      "metadata": {
        "id": "MXzw-oYHqict",
        "colab_type": "code",
        "colab": {
          "base_uri": "https://localhost:8080/",
          "height": 33
        },
        "outputId": "b32f0b1f-b3fe-46a2-a124-44f4cf3e40f9"
      },
      "source": [
        "c = 3333.555\n",
        "print(type(c))"
      ],
      "execution_count": 6,
      "outputs": [
        {
          "output_type": "stream",
          "text": [
            "<class 'float'>\n"
          ],
          "name": "stdout"
        }
      ]
    },
    {
      "cell_type": "code",
      "metadata": {
        "id": "Pvi-otq5qr4z",
        "colab_type": "code",
        "colab": {
          "base_uri": "https://localhost:8080/",
          "height": 33
        },
        "outputId": "8512f7f3-89b0-4ae4-c29d-9f39ff3f1a72"
      },
      "source": [
        "d = 222222222\n",
        "print(type(d))"
      ],
      "execution_count": 7,
      "outputs": [
        {
          "output_type": "stream",
          "text": [
            "<class 'int'>\n"
          ],
          "name": "stdout"
        }
      ]
    },
    {
      "cell_type": "code",
      "metadata": {
        "id": "PXF2uzbgtzpq",
        "colab_type": "code",
        "colab": {
          "base_uri": "https://localhost:8080/",
          "height": 84
        },
        "outputId": "ce1adc4e-18d6-4d54-8ca3-b063bcb88ccd"
      },
      "source": [
        "list= [1,2,3,4,5,]\n",
        "print(type(list))\n",
        "list.append(222)\n",
        "print(list)\n",
        "list.insert(3,111)\n",
        "print(list)\n",
        "list.remove(3)\n",
        "print(list)"
      ],
      "execution_count": 14,
      "outputs": [
        {
          "output_type": "stream",
          "text": [
            "<class 'list'>\n",
            "[1, 2, 3, 4, 5, 222]\n",
            "[1, 2, 3, 111, 4, 5, 222]\n",
            "[1, 2, 111, 4, 5, 222]\n"
          ],
          "name": "stdout"
        }
      ]
    },
    {
      "cell_type": "code",
      "metadata": {
        "id": "iMZGk2utuw0w",
        "colab_type": "code",
        "colab": {
          "base_uri": "https://localhost:8080/",
          "height": 228
        },
        "outputId": "9e38b601-83ab-498d-810a-2870915164c5"
      },
      "source": [
        "tuple = (1,2,3,4,5,\"shaayn\")\n",
        "print(tuple)\n",
        "print(type(tuple))\n",
        "tuple.append(555)"
      ],
      "execution_count": 22,
      "outputs": [
        {
          "output_type": "stream",
          "text": [
            "(1, 2, 3, 4, 5, 'shaayn')\n",
            "<class 'tuple'>\n"
          ],
          "name": "stdout"
        },
        {
          "output_type": "error",
          "ename": "AttributeError",
          "evalue": "ignored",
          "traceback": [
            "\u001b[0;31m---------------------------------------------------------------------------\u001b[0m",
            "\u001b[0;31mAttributeError\u001b[0m                            Traceback (most recent call last)",
            "\u001b[0;32m<ipython-input-22-ffa2e36f0eb0>\u001b[0m in \u001b[0;36m<module>\u001b[0;34m()\u001b[0m\n\u001b[1;32m      2\u001b[0m \u001b[0mprint\u001b[0m\u001b[0;34m(\u001b[0m\u001b[0mtuple\u001b[0m\u001b[0;34m)\u001b[0m\u001b[0;34m\u001b[0m\u001b[0;34m\u001b[0m\u001b[0m\n\u001b[1;32m      3\u001b[0m \u001b[0mprint\u001b[0m\u001b[0;34m(\u001b[0m\u001b[0mtype\u001b[0m\u001b[0;34m(\u001b[0m\u001b[0mtuple\u001b[0m\u001b[0;34m)\u001b[0m\u001b[0;34m)\u001b[0m\u001b[0;34m\u001b[0m\u001b[0;34m\u001b[0m\u001b[0m\n\u001b[0;32m----> 4\u001b[0;31m \u001b[0mtuple\u001b[0m\u001b[0;34m.\u001b[0m\u001b[0mappend\u001b[0m\u001b[0;34m(\u001b[0m\u001b[0;36m555\u001b[0m\u001b[0;34m)\u001b[0m\u001b[0;34m\u001b[0m\u001b[0;34m\u001b[0m\u001b[0m\n\u001b[0m",
            "\u001b[0;31mAttributeError\u001b[0m: 'tuple' object has no attribute 'append'"
          ]
        }
      ]
    },
    {
      "cell_type": "markdown",
      "metadata": {
        "id": "rhyvR3V62was",
        "colab_type": "text"
      },
      "source": [
        "Well ,its not working because .Tuples are immutables type.Now question is **what is immutables**?\n",
        "Immutables means its unchangeable.If you creat a tuple once ,you cannot change.but you can update through list."
      ]
    },
    {
      "cell_type": "code",
      "metadata": {
        "id": "28KTZHI33apa",
        "colab_type": "code",
        "colab": {
          "base_uri": "https://localhost:8080/",
          "height": 33
        },
        "outputId": "4adf8fbf-75dc-40c1-e053-2d97bb13b762"
      },
      "source": [
        "x = (\"apple\", \"banana\", \"cherry\")\n",
        "y = list(x)\n",
        "print(type(y))\n"
      ],
      "execution_count": 34,
      "outputs": [
        {
          "output_type": "stream",
          "text": [
            "<class 'list'>\n"
          ],
          "name": "stdout"
        }
      ]
    },
    {
      "cell_type": "markdown",
      "metadata": {
        "id": "XVPRtIj64-TP",
        "colab_type": "text"
      },
      "source": [
        "![image.png](data:image/png;base64,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)\n",
        "\n",
        "```\n",
        "#In colab its not working to convert tuple to list then update the values then again convert to list tuples.It's working in python interpreter.\n",
        "\n",
        "OOOps sorry its my mistake.i had already decleared the list variable so when i call that fucntion .It directly call that variable and its throughing the error.\n",
        "Now its working.\n",
        "```\n",
        "\n"
      ]
    },
    {
      "cell_type": "code",
      "metadata": {
        "id": "cio_0n3Z5U-5",
        "colab_type": "code",
        "colab": {
          "base_uri": "https://localhost:8080/",
          "height": 33
        },
        "outputId": "caad12b7-a33f-490c-a566-d351bb5fee2f"
      },
      "source": [
        "#complex data types\n",
        "a2 = 1 + 2j\n",
        "print(type(a2))"
      ],
      "execution_count": 38,
      "outputs": [
        {
          "output_type": "stream",
          "text": [
            "<class 'complex'>\n"
          ],
          "name": "stdout"
        }
      ]
    },
    {
      "cell_type": "code",
      "metadata": {
        "id": "lOrjdTQS81Ci",
        "colab_type": "code",
        "colab": {
          "base_uri": "https://localhost:8080/",
          "height": 184
        },
        "outputId": "5c0650df-a892-43d3-a9b1-d4d70d24f99d"
      },
      "source": [
        "#range\n",
        "a=range(9)\n",
        "for x in a:\n",
        "    print(x)\n",
        "\n",
        "print(type(a))"
      ],
      "execution_count": 41,
      "outputs": [
        {
          "output_type": "stream",
          "text": [
            "0\n",
            "1\n",
            "2\n",
            "3\n",
            "4\n",
            "5\n",
            "6\n",
            "7\n",
            "8\n",
            "<class 'range'>\n"
          ],
          "name": "stdout"
        }
      ]
    },
    {
      "cell_type": "code",
      "metadata": {
        "id": "rUJuTJ1w9MIa",
        "colab_type": "code",
        "colab": {
          "base_uri": "https://localhost:8080/",
          "height": 84
        },
        "outputId": "9dfcd51a-0723-4bc1-aca1-0db9fbf4e5d1"
      },
      "source": [
        "#set \n",
        "set ={\"kadir\",\"shaaya\",\"abbas\"}\n",
        "print(set)\n",
        "set.add('ali')\n",
        "print(set)\n",
        "print(type(set))\n",
        "set.remove('ali')\n",
        "print(set)\n",
        "\n"
      ],
      "execution_count": 49,
      "outputs": [
        {
          "output_type": "stream",
          "text": [
            "{'shaaya', 'kadir', 'abbas'}\n",
            "{'shaaya', 'kadir', 'abbas', 'ali'}\n",
            "<class 'set'>\n",
            "{'shaaya', 'kadir', 'abbas'}\n"
          ],
          "name": "stdout"
        }
      ]
    },
    {
      "cell_type": "markdown",
      "metadata": {
        "id": "2nKS5T2Q9-R-",
        "colab_type": "text"
      },
      "source": [
        "in sets , add,update ,remove is possible."
      ]
    },
    {
      "cell_type": "code",
      "metadata": {
        "id": "-T7u2kvx-Gci",
        "colab_type": "code",
        "colab": {
          "base_uri": "https://localhost:8080/",
          "height": 33
        },
        "outputId": "5b4ec61c-79ff-4a3c-d8d7-e1c452433f9f"
      },
      "source": [
        "#forzenSet\n",
        "x = frozenset({\"apple\", \"banana\", \"cherry\"})\n",
        "print(type(x))"
      ],
      "execution_count": 50,
      "outputs": [
        {
          "output_type": "stream",
          "text": [
            "<class 'frozenset'>\n"
          ],
          "name": "stdout"
        }
      ]
    },
    {
      "cell_type": "code",
      "metadata": {
        "id": "XS8_iNrQ-5gk",
        "colab_type": "code",
        "colab": {
          "base_uri": "https://localhost:8080/",
          "height": 50
        },
        "outputId": "06f5c687-1bb9-4db5-8f86-a578497bff9c"
      },
      "source": [
        "x = b\"array\"\n",
        "print(x)\n",
        "print(type(x))"
      ],
      "execution_count": 51,
      "outputs": [
        {
          "output_type": "stream",
          "text": [
            "b'array'\n",
            "<class 'bytes'>\n"
          ],
          "name": "stdout"
        }
      ]
    },
    {
      "cell_type": "code",
      "metadata": {
        "id": "42mJl_I4-_3q",
        "colab_type": "code",
        "colab": {
          "base_uri": "https://localhost:8080/",
          "height": 50
        },
        "outputId": "d78f182f-288b-426e-d677-7c58c5883219"
      },
      "source": [
        "#byteArray\n",
        "x = bytearray(5)\n",
        "print(x)\n",
        "print(type(x))"
      ],
      "execution_count": 52,
      "outputs": [
        {
          "output_type": "stream",
          "text": [
            "bytearray(b'\\x00\\x00\\x00\\x00\\x00')\n",
            "<class 'bytearray'>\n"
          ],
          "name": "stdout"
        }
      ]
    },
    {
      "cell_type": "markdown",
      "metadata": {
        "id": "97iTBnBWAz_a",
        "colab_type": "text"
      },
      "source": [
        "**Python | bytearray() function**.\n",
        "bytearray() method returns a bytearray object which is an array of given bytes. It gives a mutable sequence of integers in the range 0 <= x < 256. Returns: Returns an array of bytes of the given size. source parameter can be used to initialize the array in few different ways"
      ]
    },
    {
      "cell_type": "code",
      "metadata": {
        "id": "Gcb7CGUeA84r",
        "colab_type": "code",
        "colab": {
          "base_uri": "https://localhost:8080/",
          "height": 50
        },
        "outputId": "89d1156b-ad88-471b-dd5a-b8a555253e70"
      },
      "source": [
        "#memoryview\n",
        "a = memoryview(bytes(5))\n",
        "print(a)\n",
        "print(type(a))"
      ],
      "execution_count": 56,
      "outputs": [
        {
          "output_type": "stream",
          "text": [
            "<memory at 0x7fb97bbd8288>\n",
            "<class 'memoryview'>\n"
          ],
          "name": "stdout"
        }
      ]
    },
    {
      "cell_type": "code",
      "metadata": {
        "id": "Gt1iyDpjBVuR",
        "colab_type": "code",
        "colab": {
          "base_uri": "https://localhost:8080/",
          "height": 50
        },
        "outputId": "3e8eb861-e4f5-441b-dd0e-73cea306fb78"
      },
      "source": [
        "#dictionary\n",
        "dict = {\n",
        "    \"studentNo\":1,\n",
        "    \"StudentName\":\"Obidul kadir\"\n",
        "}\n",
        "print(dict)\n",
        "print(type(dict))"
      ],
      "execution_count": 58,
      "outputs": [
        {
          "output_type": "stream",
          "text": [
            "{'studentNo': 1, 'StudentName': 'Obidul kadir'}\n",
            "<class 'dict'>\n"
          ],
          "name": "stdout"
        }
      ]
    }
  ]
}