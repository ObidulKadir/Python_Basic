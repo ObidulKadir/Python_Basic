{
  "nbformat": 4,
  "nbformat_minor": 0,
  "metadata": {
    "colab": {
      "name": "Untitled",
      "provenance": [],
      "authorship_tag": "ABX9TyP1Bl6tuB7KPOC2VD4RAzdK",
      "include_colab_link": true
    },
    "kernelspec": {
      "name": "python3",
      "display_name": "Python 3"
    }
  },
  "cells": [
    {
      "cell_type": "markdown",
      "metadata": {
        "id": "view-in-github",
        "colab_type": "text"
      },
      "source": [
        "<a href=\"https://colab.research.google.com/github/ObidulKadir/Python_Basic/blob/master/Object_Oriented_Programming_In_Python.ipynb\" target=\"_parent\"><img src=\"https://colab.research.google.com/assets/colab-badge.svg\" alt=\"Open In Colab\"/></a>"
      ]
    },
    {
      "cell_type": "markdown",
      "metadata": {
        "id": "FKVIn2LyJSS-",
        "colab_type": "text"
      },
      "source": [
        "\n",
        "\n",
        "```\n",
        "Interesting fact in oop python.\n",
        "\n",
        "> in general ,we cannot access private variable outside the class.\n",
        "but in python we can get the \n",
        "example: customer1.__dict__.Here we can see all variable and how we can access.after that ,{'_Account__id': '01', '_Account__name': 'Kadir', '_Account__balance': 0}\n",
        "then we can use in this way, customer1._Acount__id.\n",
        "\n",
        "\n",
        "```\n",
        "\n"
      ]
    },
    {
      "cell_type": "code",
      "metadata": {
        "id": "ApZr84Qo_Kdf",
        "colab_type": "code",
        "colab": {
          "base_uri": "https://localhost:8080/",
          "height": 35
        },
        "outputId": "6bf24c6b-2acb-4874-dd45-15f76cdb9066"
      },
      "source": [
        "class Account:\n",
        "  def __init__(self,custom_id,name,inital_balance=0):\n",
        "    self.__id = custom_id\n",
        "    self.__name = name\n",
        "    self.__balance = inital_balance\n",
        "  \n",
        "  def get_balance(self):\n",
        "    return self.__balance\n",
        "  def deposite(self,amount):\n",
        "    if amount > self.__balance:\n",
        "      print(\"Insufficent balance\")\n",
        "    else:\n",
        "      self.__balance += amount\n",
        "      return self.__balance\n",
        "  def withdraw(self,amount):\n",
        "    self.__balance -=amount\n",
        "    return self.__balance\n",
        "\n",
        "\n",
        "\n",
        "\n",
        "customer1 = Account(\"01\",\"Kadir\")\n",
        "print(customer1.__dict__)"
      ],
      "execution_count": 34,
      "outputs": [
        {
          "output_type": "stream",
          "text": [
            "{'_Account__id': '01', '_Account__name': 'Kadir', '_Account__balance': 0}\n"
          ],
          "name": "stdout"
        }
      ]
    },
    {
      "cell_type": "code",
      "metadata": {
        "id": "WWACdD24DOQ7",
        "colab_type": "code",
        "colab": {
          "base_uri": "https://localhost:8080/",
          "height": 35
        },
        "outputId": "d81a2497-6320-45ee-949f-9b7f3f71d4e3"
      },
      "source": [
        "print(\"Customer Number 1 info:\",customer1.id,customer1.name,customer1.inital_balance)"
      ],
      "execution_count": 4,
      "outputs": [
        {
          "output_type": "stream",
          "text": [
            "Customer Number 1 info: 01 Kadir 0\n"
          ],
          "name": "stdout"
        }
      ]
    },
    {
      "cell_type": "code",
      "metadata": {
        "id": "JmEW9m6lD7eq",
        "colab_type": "code",
        "colab": {
          "base_uri": "https://localhost:8080/",
          "height": 35
        },
        "outputId": "aa518e40-bf40-4310-9241-418bd347c671"
      },
      "source": [
        "print(customer1.get_balance())"
      ],
      "execution_count": 6,
      "outputs": [
        {
          "output_type": "stream",
          "text": [
            "0\n"
          ],
          "name": "stdout"
        }
      ]
    },
    {
      "cell_type": "code",
      "metadata": {
        "id": "clXEeqVVEXiJ",
        "colab_type": "code",
        "colab": {
          "base_uri": "https://localhost:8080/",
          "height": 54
        },
        "outputId": "97ff59e4-bde1-430f-ea31-85a67a43754c"
      },
      "source": [
        "print(customer1.deposite(100000))\n",
        "print(customer1.get_balance())"
      ],
      "execution_count": 14,
      "outputs": [
        {
          "output_type": "stream",
          "text": [
            "800000\n",
            "800000\n"
          ],
          "name": "stdout"
        }
      ]
    },
    {
      "cell_type": "markdown",
      "metadata": {
        "id": "LXSY2qOzEx7j",
        "colab_type": "text"
      },
      "source": [
        "\n",
        "\n",
        "```\n",
        "Every time how much value is pass through the deposite() function.\n",
        "here, we pass 8 times so value and reccent balance are 800000.\n",
        "```\n",
        "\n"
      ]
    },
    {
      "cell_type": "code",
      "metadata": {
        "id": "GxuwFecYFFWi",
        "colab_type": "code",
        "colab": {
          "base_uri": "https://localhost:8080/",
          "height": 35
        },
        "outputId": "cb080aca-b116-45ea-8912-b89fef7e34ae"
      },
      "source": [
        "print(customer1.deposite(100000))"
      ],
      "execution_count": 15,
      "outputs": [
        {
          "output_type": "stream",
          "text": [
            "900000\n"
          ],
          "name": "stdout"
        }
      ]
    },
    {
      "cell_type": "code",
      "metadata": {
        "id": "BlCgO7rhFLNy",
        "colab_type": "code",
        "colab": {
          "base_uri": "https://localhost:8080/",
          "height": 35
        },
        "outputId": "4a12d053-efa8-4e72-8a7d-25357c2dc69b"
      },
      "source": [
        "print(customer1.get_balance())"
      ],
      "execution_count": 16,
      "outputs": [
        {
          "output_type": "stream",
          "text": [
            "900000\n"
          ],
          "name": "stdout"
        }
      ]
    },
    {
      "cell_type": "code",
      "metadata": {
        "id": "IqJr_3edFPFi",
        "colab_type": "code",
        "colab": {
          "base_uri": "https://localhost:8080/",
          "height": 35
        },
        "outputId": "8ca84231-8a5d-44be-c5ee-eb090577c1ba"
      },
      "source": [
        "customer1.withdraw(100000)"
      ],
      "execution_count": 18,
      "outputs": [
        {
          "output_type": "execute_result",
          "data": {
            "text/plain": [
              "800000"
            ]
          },
          "metadata": {
            "tags": []
          },
          "execution_count": 18
        }
      ]
    },
    {
      "cell_type": "markdown",
      "metadata": {
        "id": "MgZLqBteFV1D",
        "colab_type": "text"
      },
      "source": [
        "\n",
        "\n",
        "```\n",
        "Interesting fact is that if we withdraw money its subtract the money from actual money.\n",
        "\n",
        "```\n",
        "\n"
      ]
    },
    {
      "cell_type": "code",
      "metadata": {
        "id": "ZZhlfNgxFniq",
        "colab_type": "code",
        "colab": {
          "base_uri": "https://localhost:8080/",
          "height": 35
        },
        "outputId": "3a5789f5-cbe5-4e81-8ffb-4f312f6ef3e7"
      },
      "source": [
        "customer1.get_balance()"
      ],
      "execution_count": 19,
      "outputs": [
        {
          "output_type": "execute_result",
          "data": {
            "text/plain": [
              "800000"
            ]
          },
          "metadata": {
            "tags": []
          },
          "execution_count": 19
        }
      ]
    },
    {
      "cell_type": "markdown",
      "metadata": {
        "id": "zFQptdXRFrwF",
        "colab_type": "text"
      },
      "source": [
        "\n",
        "\n",
        "```\n",
        "So,our recent balance is 800000.\n",
        "```\n",
        "\n"
      ]
    },
    {
      "cell_type": "code",
      "metadata": {
        "id": "EUpBdUt0GIGy",
        "colab_type": "code",
        "colab": {
          "base_uri": "https://localhost:8080/",
          "height": 54
        },
        "outputId": "8293c578-4416-4142-fd38-8d29c2cb36c2"
      },
      "source": [
        "n = int(input(\"Enter the amount you want to transaction :\"))\n",
        "print(\"Your withraw is complete .Now present balance is : \",customer1.withdraw(n))"
      ],
      "execution_count": 22,
      "outputs": [
        {
          "output_type": "stream",
          "text": [
            "Enter the amount you want to transaction :100000\n",
            "Your withraw is complete .Now present balance is :  600000\n"
          ],
          "name": "stdout"
        }
      ]
    },
    {
      "cell_type": "code",
      "metadata": {
        "id": "ttqygxDHGJ4i",
        "colab_type": "code",
        "colab": {}
      },
      "source": [
        "customer2 = Account('02','Shayan')\n",
        "\n",
        "customer3 = Account('03','Rizwan')\n",
        "customer4 = Account ('04','Aryan')"
      ],
      "execution_count": 23,
      "outputs": []
    },
    {
      "cell_type": "markdown",
      "metadata": {
        "id": "-M9HjzK5HZvM",
        "colab_type": "text"
      },
      "source": [
        "\n",
        "\n",
        "```\n",
        "**Here, i create some customer account with there id and name.and we are gonna deposite the vast ammount.**\n",
        "```\n",
        "\n"
      ]
    },
    {
      "cell_type": "code",
      "metadata": {
        "id": "UzYDModVHYG_",
        "colab_type": "code",
        "colab": {
          "base_uri": "https://localhost:8080/",
          "height": 35
        },
        "outputId": "03c4f759-ef3a-407c-8176-f3f4a219579c"
      },
      "source": [
        "customer2.deposite(10000)\n",
        "customer3.deposite(20000)\n",
        "customer4.deposite(4000)\n"
      ],
      "execution_count": 27,
      "outputs": [
        {
          "output_type": "execute_result",
          "data": {
            "text/plain": [
              "16000"
            ]
          },
          "metadata": {
            "tags": []
          },
          "execution_count": 27
        }
      ]
    },
    {
      "cell_type": "markdown",
      "metadata": {
        "id": "67K-WgugILB2",
        "colab_type": "text"
      },
      "source": [
        "\n",
        "\n",
        "```\n",
        "# DONT be Afraid because here only shows last customer deposite ammount...heheheh\n",
        "```\n",
        "\n"
      ]
    },
    {
      "cell_type": "code",
      "metadata": {
        "id": "PnNSTeupH6rE",
        "colab_type": "code",
        "colab": {
          "base_uri": "https://localhost:8080/",
          "height": 72
        },
        "outputId": "19120b72-115e-4749-fbb7-a2b0107d8751"
      },
      "source": [
        "print(customer2.get_balance())\n",
        "print(customer3.get_balance())\n",
        "print(customer4.get_balance())"
      ],
      "execution_count": 29,
      "outputs": [
        {
          "output_type": "stream",
          "text": [
            "40000\n",
            "80000\n",
            "16000\n"
          ],
          "name": "stdout"
        }
      ]
    },
    {
      "cell_type": "markdown",
      "metadata": {
        "id": "SkISgF1AIXL3",
        "colab_type": "text"
      },
      "source": [
        "\n",
        "\n",
        "```\n",
        "Now we are gonna fetch the customer name and id .which customers transaction below 20000.lets seee.......\n",
        "```\n",
        "\n"
      ]
    },
    {
      "cell_type": "code",
      "metadata": {
        "id": "4zVXHnpWImQ2",
        "colab_type": "code",
        "colab": {}
      },
      "source": [
        "l = [customer1,customer2,customer3,customer4]\n"
      ],
      "execution_count": 30,
      "outputs": []
    },
    {
      "cell_type": "code",
      "metadata": {
        "id": "BuDI2rF4Ix4N",
        "colab_type": "code",
        "colab": {
          "base_uri": "https://localhost:8080/",
          "height": 35
        },
        "outputId": "62b6623c-db66-47d4-c67b-ef5880a7ebcc"
      },
      "source": [
        "for object in l:\n",
        "  if object.balance < 20000:\n",
        "    print(object.id,object.name)"
      ],
      "execution_count": 32,
      "outputs": [
        {
          "output_type": "stream",
          "text": [
            "04 Aryan\n"
          ],
          "name": "stdout"
        }
      ]
    }
  ]
}