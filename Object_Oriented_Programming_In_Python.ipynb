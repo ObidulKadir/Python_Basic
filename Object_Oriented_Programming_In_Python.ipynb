{
  "nbformat": 4,
  "nbformat_minor": 0,
  "metadata": {
    "colab": {
      "name": "Untitled",
      "provenance": [],
      "authorship_tag": "ABX9TyP0ygocZg3eFElTswcaktri",
      "include_colab_link": true
    },
    "kernelspec": {
      "name": "python3",
      "display_name": "Python 3"
    }
  },
  "cells": [
    {
      "cell_type": "markdown",
      "metadata": {
        "id": "view-in-github",
        "colab_type": "text"
      },
      "source": [
        "<a href=\"https://colab.research.google.com/github/ObidulKadir/Python_Basic/blob/master/Object_Oriented_Programming_In_Python.ipynb\" target=\"_parent\"><img src=\"https://colab.research.google.com/assets/colab-badge.svg\" alt=\"Open In Colab\"/></a>"
      ]
    },
    {
      "cell_type": "markdown",
      "metadata": {
        "id": "FKVIn2LyJSS-",
        "colab_type": "text"
      },
      "source": [
        "\n",
        "\n",
        "```\n",
        "Interesting fact in oop python.\n",
        "\n",
        "> in general ,we cannot access private variable outside the class.\n",
        "but in python we can get the \n",
        "example: customer1.__dict__.Here we can see all variable and how we can access.after that ,{'_Account__id': '01', '_Account__name': 'Kadir', '_Account__balance': 0}\n",
        "then we can use in this way, customer1._Acount__id.\n",
        "\n",
        "\n",
        "```\n",
        "\n"
      ]
    },
    {
      "cell_type": "code",
      "metadata": {
        "id": "ApZr84Qo_Kdf",
        "colab_type": "code",
        "colab": {
          "base_uri": "https://localhost:8080/",
          "height": 35
        },
        "outputId": "b1e191d9-99dc-4300-cfea-666bbc1b8603"
      },
      "source": [
        "class Account:\n",
        "  def __init__(self,custom_id,name,inital_balance=0):\n",
        "    self.__id = custom_id\n",
        "    self.__name = name\n",
        "    self.__balance = inital_balance\n",
        "  \n",
        "  def get_balance(self):\n",
        "    return self.__balance\n",
        "  def deposite(self,amount):\n",
        "      self.__balance += amount\n",
        "      return self.__balance\n",
        "  def withdraw(self,amount):\n",
        "    if amount > self.__balance:\n",
        "      print(\"Insufficent balance\")\n",
        "    else:  \n",
        "      self.__balance -=amount\n",
        "      return self.__balance\n",
        "\n",
        "\n",
        "\n",
        "\n",
        "customer1 = Account(\"01\",\"Kadir\")\n",
        "print(customer1.__dict__)"
      ],
      "execution_count": 25,
      "outputs": [
        {
          "output_type": "stream",
          "text": [
            "{'_Account__id': '01', '_Account__name': 'Kadir', '_Account__balance': 0}\n"
          ],
          "name": "stdout"
        }
      ]
    },
    {
      "cell_type": "code",
      "metadata": {
        "id": "WWACdD24DOQ7",
        "colab_type": "code",
        "colab": {
          "base_uri": "https://localhost:8080/",
          "height": 35
        },
        "outputId": "cf6ce8f8-9ea1-4c81-960a-fa416ad17789"
      },
      "source": [
        "print(\"Customer Number 1 info:\",customer1._Account__id,customer1._Account__name,customer1._Account__balance)"
      ],
      "execution_count": 29,
      "outputs": [
        {
          "output_type": "stream",
          "text": [
            "Customer Number 1 info: 01 Kadir 0\n"
          ],
          "name": "stdout"
        }
      ]
    },
    {
      "cell_type": "code",
      "metadata": {
        "id": "JmEW9m6lD7eq",
        "colab_type": "code",
        "colab": {
          "base_uri": "https://localhost:8080/",
          "height": 35
        },
        "outputId": "ffebb56b-347c-481f-fd6b-cf96793c5490"
      },
      "source": [
        "print(customer1.get_balance())"
      ],
      "execution_count": 30,
      "outputs": [
        {
          "output_type": "stream",
          "text": [
            "0\n"
          ],
          "name": "stdout"
        }
      ]
    },
    {
      "cell_type": "code",
      "metadata": {
        "id": "clXEeqVVEXiJ",
        "colab_type": "code",
        "colab": {
          "base_uri": "https://localhost:8080/",
          "height": 54
        },
        "outputId": "c047feb9-686d-4386-f8bd-77e31339151e"
      },
      "source": [
        "print(customer1.deposite(100000))\n",
        "print(customer1.get_balance())"
      ],
      "execution_count": 31,
      "outputs": [
        {
          "output_type": "stream",
          "text": [
            "100000\n",
            "100000\n"
          ],
          "name": "stdout"
        }
      ]
    },
    {
      "cell_type": "markdown",
      "metadata": {
        "id": "LXSY2qOzEx7j",
        "colab_type": "text"
      },
      "source": [
        "\n",
        "\n",
        "```\n",
        "Every time how much value is pass through the deposite() function.\n",
        "here, we pass 8 times so value and reccent balance are 800000.\n",
        "```\n",
        "\n"
      ]
    },
    {
      "cell_type": "code",
      "metadata": {
        "id": "GxuwFecYFFWi",
        "colab_type": "code",
        "colab": {
          "base_uri": "https://localhost:8080/",
          "height": 35
        },
        "outputId": "7b8f0ae0-40a5-4f01-b5b4-40f5604009ef"
      },
      "source": [
        "print(customer1.deposite(100000))"
      ],
      "execution_count": 32,
      "outputs": [
        {
          "output_type": "stream",
          "text": [
            "200000\n"
          ],
          "name": "stdout"
        }
      ]
    },
    {
      "cell_type": "code",
      "metadata": {
        "id": "BlCgO7rhFLNy",
        "colab_type": "code",
        "colab": {
          "base_uri": "https://localhost:8080/",
          "height": 35
        },
        "outputId": "b2aac4dd-a52f-4498-ab6d-7f626d6bd180"
      },
      "source": [
        "print(customer1.get_balance())"
      ],
      "execution_count": 33,
      "outputs": [
        {
          "output_type": "stream",
          "text": [
            "200000\n"
          ],
          "name": "stdout"
        }
      ]
    },
    {
      "cell_type": "code",
      "metadata": {
        "id": "IqJr_3edFPFi",
        "colab_type": "code",
        "colab": {
          "base_uri": "https://localhost:8080/",
          "height": 35
        },
        "outputId": "e22fe6dc-391b-422f-bfaf-228a849a8d11"
      },
      "source": [
        "customer1.withdraw(100000)"
      ],
      "execution_count": 34,
      "outputs": [
        {
          "output_type": "execute_result",
          "data": {
            "text/plain": [
              "100000"
            ]
          },
          "metadata": {
            "tags": []
          },
          "execution_count": 34
        }
      ]
    },
    {
      "cell_type": "markdown",
      "metadata": {
        "id": "MgZLqBteFV1D",
        "colab_type": "text"
      },
      "source": [
        "\n",
        "\n",
        "```\n",
        "Interesting fact is that if we withdraw money its subtract the money from actual money.\n",
        "\n",
        "```\n",
        "\n"
      ]
    },
    {
      "cell_type": "code",
      "metadata": {
        "id": "ZZhlfNgxFniq",
        "colab_type": "code",
        "colab": {
          "base_uri": "https://localhost:8080/",
          "height": 35
        },
        "outputId": "f2b51073-baac-42a9-d2f3-bea4f23bbcc3"
      },
      "source": [
        "customer1.get_balance()"
      ],
      "execution_count": 35,
      "outputs": [
        {
          "output_type": "execute_result",
          "data": {
            "text/plain": [
              "100000"
            ]
          },
          "metadata": {
            "tags": []
          },
          "execution_count": 35
        }
      ]
    },
    {
      "cell_type": "markdown",
      "metadata": {
        "id": "zFQptdXRFrwF",
        "colab_type": "text"
      },
      "source": [
        "\n",
        "\n",
        "```\n",
        "So,our recent balance is 100000.\n",
        "```\n",
        "\n"
      ]
    },
    {
      "cell_type": "code",
      "metadata": {
        "id": "EUpBdUt0GIGy",
        "colab_type": "code",
        "colab": {
          "base_uri": "https://localhost:8080/",
          "height": 54
        },
        "outputId": "958f62a9-a5e2-424b-de3b-d8b131ae10af"
      },
      "source": [
        "n = int(input(\"Enter the amount you want to transaction :\"))\n",
        "print(\"Your withraw is complete .Now present balance is : \",customer1.withdraw(n))"
      ],
      "execution_count": 36,
      "outputs": [
        {
          "output_type": "stream",
          "text": [
            "Enter the amount you want to transaction :10000\n",
            "Your withraw is complete .Now present balance is :  90000\n"
          ],
          "name": "stdout"
        }
      ]
    },
    {
      "cell_type": "code",
      "metadata": {
        "id": "ttqygxDHGJ4i",
        "colab_type": "code",
        "colab": {}
      },
      "source": [
        "customer2 = Account('02','Shayan')\n",
        "\n",
        "customer3 = Account('03','Rizwan')\n",
        "customer4 = Account ('04','Aryan')"
      ],
      "execution_count": 37,
      "outputs": []
    },
    {
      "cell_type": "markdown",
      "metadata": {
        "id": "-M9HjzK5HZvM",
        "colab_type": "text"
      },
      "source": [
        "\n",
        "\n",
        "```\n",
        "**Here, i create some customer account with there id and name.and we are gonna deposite the vast ammount.**\n",
        "```\n",
        "\n"
      ]
    },
    {
      "cell_type": "code",
      "metadata": {
        "id": "UzYDModVHYG_",
        "colab_type": "code",
        "colab": {
          "base_uri": "https://localhost:8080/",
          "height": 35
        },
        "outputId": "1ebb5c68-982b-4385-ebd5-584f7f4ddb34"
      },
      "source": [
        "customer2.deposite(10000)\n",
        "customer3.deposite(20000)\n",
        "customer4.deposite(4000)\n"
      ],
      "execution_count": 39,
      "outputs": [
        {
          "output_type": "execute_result",
          "data": {
            "text/plain": [
              "8000"
            ]
          },
          "metadata": {
            "tags": []
          },
          "execution_count": 39
        }
      ]
    },
    {
      "cell_type": "markdown",
      "metadata": {
        "id": "67K-WgugILB2",
        "colab_type": "text"
      },
      "source": [
        "\n",
        "\n",
        "```\n",
        "# DONT be Afraid because here only shows last customer deposite ammount...heheheh\n",
        "```\n",
        "\n"
      ]
    },
    {
      "cell_type": "code",
      "metadata": {
        "id": "PnNSTeupH6rE",
        "colab_type": "code",
        "colab": {
          "base_uri": "https://localhost:8080/",
          "height": 72
        },
        "outputId": "cbcec673-57e4-436d-a63e-299696ccc4bf"
      },
      "source": [
        "print(customer2.get_balance())\n",
        "print(customer3.get_balance())\n",
        "print(customer4.get_balance())"
      ],
      "execution_count": 40,
      "outputs": [
        {
          "output_type": "stream",
          "text": [
            "20000\n",
            "40000\n",
            "8000\n"
          ],
          "name": "stdout"
        }
      ]
    },
    {
      "cell_type": "markdown",
      "metadata": {
        "id": "SkISgF1AIXL3",
        "colab_type": "text"
      },
      "source": [
        "\n",
        "\n",
        "```\n",
        "Now we are gonna fetch the customer name and id .which customers transaction below 20000.lets seee.......\n",
        "```\n",
        "\n"
      ]
    },
    {
      "cell_type": "code",
      "metadata": {
        "id": "4zVXHnpWImQ2",
        "colab_type": "code",
        "colab": {}
      },
      "source": [
        "l = [customer1,customer2,customer3,customer4]\n"
      ],
      "execution_count": 41,
      "outputs": []
    },
    {
      "cell_type": "code",
      "metadata": {
        "id": "BuDI2rF4Ix4N",
        "colab_type": "code",
        "colab": {
          "base_uri": "https://localhost:8080/",
          "height": 35
        },
        "outputId": "cb47ea45-8167-44ca-c3e8-cf1f55d209c5"
      },
      "source": [
        "for object in l:\n",
        "  if object._Account__balance < 20000:\n",
        "    print(object._Account__id,object._Account__name)"
      ],
      "execution_count": 44,
      "outputs": [
        {
          "output_type": "stream",
          "text": [
            "04 Aryan\n"
          ],
          "name": "stdout"
        }
      ]
    },
    {
      "cell_type": "code",
      "metadata": {
        "id": "Uios46BYMlvP",
        "colab_type": "code",
        "colab": {}
      },
      "source": [
        "class Saving_account(Account):\n",
        "  def __init__(self,id,name,inital_bal = 0):\n",
        "    super().__init__(id,name,inital_bal) #access init method through the super() keyword.\n",
        "    self.limit = 50000\n",
        "  #method_overriding____\n",
        "  def withdraw(self,amount):\n",
        "    if amount < self.limit:\n",
        "        new_balance = super().withdraw(amount)\n",
        "        self.limit -= amount\n",
        "        return new_balance\n",
        "    else:\n",
        "      print('Daily limit reached..!!!')\n",
        "\n",
        "\n"
      ],
      "execution_count": 55,
      "outputs": []
    },
    {
      "cell_type": "code",
      "metadata": {
        "id": "5p4r4nPYNFnN",
        "colab_type": "code",
        "colab": {
          "base_uri": "https://localhost:8080/",
          "height": 35
        },
        "outputId": "4206c16e-483c-4f0f-ca2f-2ed1aab1f7dd"
      },
      "source": [
        "coust1 = Saving_account(101,'rifon')\n",
        "coust1"
      ],
      "execution_count": 56,
      "outputs": [
        {
          "output_type": "execute_result",
          "data": {
            "text/plain": [
              "<__main__.Saving_account at 0x7f35108cb4e0>"
            ]
          },
          "metadata": {
            "tags": []
          },
          "execution_count": 56
        }
      ]
    },
    {
      "cell_type": "markdown",
      "metadata": {
        "id": "ueIjfS3RNH_c",
        "colab_type": "text"
      },
      "source": [
        "\n",
        "\n",
        "```\n",
        "Here, creating a object of saving account\n",
        "```\n",
        "\n"
      ]
    },
    {
      "cell_type": "code",
      "metadata": {
        "id": "-qRlmzN-NPNb",
        "colab_type": "code",
        "colab": {
          "base_uri": "https://localhost:8080/",
          "height": 90
        },
        "outputId": "490a0b4f-7baf-42b3-972c-c0308482d554"
      },
      "source": [
        "coust1.__dict__"
      ],
      "execution_count": 57,
      "outputs": [
        {
          "output_type": "execute_result",
          "data": {
            "text/plain": [
              "{'_Account__balance': 0,\n",
              " '_Account__id': 101,\n",
              " '_Account__name': 'rifon',\n",
              " 'limit': 50000}"
            ]
          },
          "metadata": {
            "tags": []
          },
          "execution_count": 57
        }
      ]
    },
    {
      "cell_type": "code",
      "metadata": {
        "id": "z4m_I2D0OYV8",
        "colab_type": "code",
        "colab": {
          "base_uri": "https://localhost:8080/",
          "height": 35
        },
        "outputId": "27f62a76-cca2-4846-98b4-8aed9645f9b1"
      },
      "source": [
        "coust1.deposite(100000)"
      ],
      "execution_count": 58,
      "outputs": [
        {
          "output_type": "execute_result",
          "data": {
            "text/plain": [
              "100000"
            ]
          },
          "metadata": {
            "tags": []
          },
          "execution_count": 58
        }
      ]
    },
    {
      "cell_type": "code",
      "metadata": {
        "id": "aI9u-mWFQAsG",
        "colab_type": "code",
        "colab": {
          "base_uri": "https://localhost:8080/",
          "height": 35
        },
        "outputId": "d05bcdfa-4934-49d1-ec24-10fa431a7d1d"
      },
      "source": [
        "coust1.withdraw(40000)\n"
      ],
      "execution_count": 59,
      "outputs": [
        {
          "output_type": "execute_result",
          "data": {
            "text/plain": [
              "60000"
            ]
          },
          "metadata": {
            "tags": []
          },
          "execution_count": 59
        }
      ]
    },
    {
      "cell_type": "code",
      "metadata": {
        "id": "1DVIryNpSjMp",
        "colab_type": "code",
        "colab": {
          "base_uri": "https://localhost:8080/",
          "height": 35
        },
        "outputId": "e61c12c5-1fac-485f-bd02-8de250b40880"
      },
      "source": [
        "coust1.withdraw(50000)"
      ],
      "execution_count": 60,
      "outputs": [
        {
          "output_type": "stream",
          "text": [
            "Daily limit reached..!!!\n"
          ],
          "name": "stdout"
        }
      ]
    }
  ]
}