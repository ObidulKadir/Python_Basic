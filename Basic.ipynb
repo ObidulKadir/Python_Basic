{
  "nbformat": 4,
  "nbformat_minor": 0,
  "metadata": {
    "colab": {
      "name": "Basic.ipynb",
      "provenance": []
    },
    "kernelspec": {
      "name": "python3",
      "display_name": "Python 3"
    }
  },
  "cells": [
    {
      "cell_type": "code",
      "metadata": {
        "id": "JO0usUU0WxgE",
        "colab_type": "code",
        "colab": {
          "base_uri": "https://localhost:8080/",
          "height": 35
        },
        "outputId": "f02d4183-7bf2-499f-c398-94fc1b900fc0"
      },
      "source": [
        "print(\"Welcome to python practice session.\")"
      ],
      "execution_count": 2,
      "outputs": [
        {
          "output_type": "stream",
          "text": [
            "Welcome to python practice session.\n"
          ],
          "name": "stdout"
        }
      ]
    },
    {
      "cell_type": "code",
      "metadata": {
        "id": "nPBX25wactwQ",
        "colab_type": "code",
        "colab": {
          "base_uri": "https://localhost:8080/",
          "height": 72
        },
        "outputId": "f79d5cd7-8c7f-4188-9995-73de8558e187"
      },
      "source": [
        "first_number = 100\n",
        "second_number = 200\n",
        "\n",
        "addition = first_number + second_number\n",
        "print(addition)\n",
        "print(type(addition),id(first_number))\n",
        "print(id(first_number),id(second_number))\n"
      ],
      "execution_count": 6,
      "outputs": [
        {
          "output_type": "stream",
          "text": [
            "300\n",
            "<class 'int'> 10917664\n",
            "10917664 10920864\n"
          ],
          "name": "stdout"
        }
      ]
    },
    {
      "cell_type": "markdown",
      "metadata": {
        "id": "FEU2n0T_d3ba",
        "colab_type": "text"
      },
      "source": [
        "**# id:**\n",
        "Its means that where the data is stored that means memory location .So, if declear id with variable its shows that which location that variable is stored.\n",
        "\n",
        "Example : print(id(first_number),id(second_number))\n",
        "The result will be:10917664 10920864 So its a meomry location.\n",
        "\n",
        "**## Type :** \n",
        "Type means which data type are having in variable like if we declare a = 10 and we print that type as print(type(a)).\n",
        "It shows the result is: class int>\n"
      ]
    },
    {
      "cell_type": "code",
      "metadata": {
        "id": "4J5cRWFxfQrK",
        "colab_type": "code",
        "colab": {
          "base_uri": "https://localhost:8080/",
          "height": 35
        },
        "outputId": "c06593e7-2f58-449d-e078-702cd1179698"
      },
      "source": [
        "a = 30 \n",
        "b = 30 \n",
        "\n",
        "print(id(a),id(b))"
      ],
      "execution_count": 4,
      "outputs": [
        {
          "output_type": "stream",
          "text": [
            "10915424 10915424\n"
          ],
          "name": "stdout"
        }
      ]
    },
    {
      "cell_type": "markdown",
      "metadata": {
        "id": "837rwEosfpnG",
        "colab_type": "text"
      },
      "source": [
        "**Object intering**\n",
        "\n",
        "```\n",
        "### if we defined a variable having same values .Python will not creating the two object for this variable.\n",
        "In case, if we print id in that case through #print(id(a),id(b)) which is returns same memory location.Becuase it is not creating different object for this.Same location where a & b is values 10 is stored.And its both a & b is refering same values.\n",
        "\n",
        "So, its called Object intering.\n",
        "```\n",
        "\n",
        "\n"
      ]
    },
    {
      "cell_type": "markdown",
      "metadata": {
        "id": "aqBaAcvz3zcJ",
        "colab_type": "text"
      },
      "source": [
        "# Compile time constant\n",
        "\n",
        "if the primitive types or String types defined as constant and the value is known at compile time.**Then Compiler what will do????**\n",
        "The compiler replaces all the constant every places in the code with its value.\n",
        "This is called compiler time constant.\n",
        "\n",
        "\n",
        "Now **question** is **What is primitive types???....**\n",
        "\n",
        "Actually, primitive is just defined data types such as integer,float,double,boolean ,string.All of those are defined data types because before the variable declare, we oviously defined the data types although  the variable types cannot be changed.In others language we defined data types with variable .\n",
        "\n",
        "As example - int a =10;\n",
        "\n",
        "> Here, we delcare a variable and its intger types.\n",
        "\n",
        "**But,**In python is not same as others language.Because, python is completely object-oriented which is not statically typed.\n",
        "\n",
        "For example: In python. we do,\n",
        "\n",
        "> a = 10 \n",
        "here , This is defined variable as a integer ,When value is out into the a as 10 its means variable a is integer.\n",
        "if we want to found it in programming way what is that types of variable.?????\n",
        "\n",
        "We will write : print (types(a)) .\n",
        "\n",
        "Now **question** is  what is **non-primitive types?**\n",
        "\n",
        "Non-primitive data types are called reference types because they refer to objects.\n",
        "\n",
        "Basically, its simply called objects while coding times which is created rather than predefined.\n",
        "\n",
        "\n",
        "\n"
      ]
    },
    {
      "cell_type": "code",
      "metadata": {
        "id": "vtH7s29K_bVu",
        "colab_type": "code",
        "colab": {
          "base_uri": "https://localhost:8080/",
          "height": 35
        },
        "outputId": "d56e2c23-6cbe-4e71-a9a7-c1d4ebc6a4a7"
      },
      "source": [
        "a = \"string\"\n",
        "b = \"string\"\n",
        "a in b"
      ],
      "execution_count": 6,
      "outputs": [
        {
          "output_type": "execute_result",
          "data": {
            "text/plain": [
              "True"
            ]
          },
          "metadata": {
            "tags": []
          },
          "execution_count": 6
        }
      ]
    },
    {
      "cell_type": "markdown",
      "metadata": {
        "id": "2diHgkM-A9MZ",
        "colab_type": "text"
      },
      "source": [
        "String Intering"
      ]
    },
    {
      "cell_type": "code",
      "metadata": {
        "id": "DYSwoP2UAFQQ",
        "colab_type": "code",
        "colab": {
          "base_uri": "https://localhost:8080/",
          "height": 35
        },
        "outputId": "ea1c0df3-8a0a-49a9-f71a-b32103cd4c93"
      },
      "source": [
        "\"string\" in \"bal\""
      ],
      "execution_count": 7,
      "outputs": [
        {
          "output_type": "execute_result",
          "data": {
            "text/plain": [
              "False"
            ]
          },
          "metadata": {
            "tags": []
          },
          "execution_count": 7
        }
      ]
    },
    {
      "cell_type": "code",
      "metadata": {
        "id": "hs3aWCx6Amxn",
        "colab_type": "code",
        "colab": {
          "base_uri": "https://localhost:8080/",
          "height": 35
        },
        "outputId": "771bf45b-a207-4a7e-de82-17cdb89e5820"
      },
      "source": [
        "\"string\" is \"string\""
      ],
      "execution_count": 8,
      "outputs": [
        {
          "output_type": "execute_result",
          "data": {
            "text/plain": [
              "True"
            ]
          },
          "metadata": {
            "tags": []
          },
          "execution_count": 8
        }
      ]
    },
    {
      "cell_type": "code",
      "metadata": {
        "id": "30YsXDPjA2D6",
        "colab_type": "code",
        "colab": {
          "base_uri": "https://localhost:8080/",
          "height": 35
        },
        "outputId": "d9d11469-a143-4a17-8bbd-5b995bd5e28d"
      },
      "source": [
        "\"stri\"+\"ng\" is \"string\""
      ],
      "execution_count": 9,
      "outputs": [
        {
          "output_type": "execute_result",
          "data": {
            "text/plain": [
              "True"
            ]
          },
          "metadata": {
            "tags": []
          },
          "execution_count": 9
        }
      ]
    },
    {
      "cell_type": "code",
      "metadata": {
        "id": "T87XKIgKBH-7",
        "colab_type": "code",
        "colab": {
          "base_uri": "https://localhost:8080/",
          "height": 35
        },
        "outputId": "8ade7f8a-0e77-4383-eb38-d4ee1b257512"
      },
      "source": [
        "s1 = \"strin\"\n",
        "s2 = \"string\"\n",
        "#s1 + \"g\" in s2\n",
        "s1 + \"g\" is s2"
      ],
      "execution_count": 12,
      "outputs": [
        {
          "output_type": "execute_result",
          "data": {
            "text/plain": [
              "False"
            ]
          },
          "metadata": {
            "tags": []
          },
          "execution_count": 12
        }
      ]
    },
    {
      "cell_type": "markdown",
      "metadata": {
        "id": "KCbk9ZtgBrKL",
        "colab_type": "text"
      },
      "source": [
        "Why ????It's not working.Not working!!!!Hanging my head......\n",
        "\n",
        "Because ,  interpreter is probably interning compile-time constants but not the results of run-time expressions.\n",
        "\n",
        "So , i am gonna try another way."
      ]
    },
    {
      "cell_type": "code",
      "metadata": {
        "id": "zRTT6sUQCN8x",
        "colab_type": "code",
        "colab": {
          "base_uri": "https://localhost:8080/",
          "height": 54
        },
        "outputId": "24bd851b-7e4b-4a95-e035-2cef24a9ccb1"
      },
      "source": [
        "S1 = \"strin\";\n",
        "s11 = S1 + \"g\"\n",
        "s2 = \"string\"\n",
        "print(s11)\n",
        "s11 is  s2\n",
        "from six.moves import intern \n",
        "\n",
        "intern(s11) is s2"
      ],
      "execution_count": 25,
      "outputs": [
        {
          "output_type": "stream",
          "text": [
            "string\n"
          ],
          "name": "stdout"
        },
        {
          "output_type": "execute_result",
          "data": {
            "text/plain": [
              "True"
            ]
          },
          "metadata": {
            "tags": []
          },
          "execution_count": 25
        }
      ]
    },
    {
      "cell_type": "markdown",
      "metadata": {
        "id": "2hfLME2GFAXt",
        "colab_type": "text"
      },
      "source": [
        "By using intern you ensure that you never create two string objects that have the same value - when you request the creation of a second string object with the same value as an existing string object, you receive a reference to the pre-existing string object. This way, you are saving memory. Also, string objects comparison is now very efficient because it is carried out by comparing the memory addresses of the two string objects instead of their content."
      ]
    },
    {
      "cell_type": "markdown",
      "metadata": {
        "id": "JLrD3h5xFIZ1",
        "colab_type": "text"
      },
      "source": [
        "# We can do another way."
      ]
    },
    {
      "cell_type": "code",
      "metadata": {
        "id": "LMFQvpnKFMCz",
        "colab_type": "code",
        "colab": {
          "base_uri": "https://localhost:8080/",
          "height": 35
        },
        "outputId": "cefa882c-2b8c-4927-adf7-909ddde5ebd5"
      },
      "source": [
        "a = 'strin'\n",
        "b = intern(a + 'g')\n",
        "\n",
        "c = 'string'\n",
        "b is c"
      ],
      "execution_count": 28,
      "outputs": [
        {
          "output_type": "execute_result",
          "data": {
            "text/plain": [
              "True"
            ]
          },
          "metadata": {
            "tags": []
          },
          "execution_count": 28
        }
      ]
    }
  ]
}