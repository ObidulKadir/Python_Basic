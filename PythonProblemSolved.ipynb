{
  "nbformat": 4,
  "nbformat_minor": 0,
  "metadata": {
    "colab": {
      "name": "Untitled2.ipynb",
      "provenance": [],
      "authorship_tag": "ABX9TyOH/nqCa99IY3OL0b7pR2O3",
      "include_colab_link": true
    },
    "kernelspec": {
      "name": "python3",
      "display_name": "Python 3"
    }
  },
  "cells": [
    {
      "cell_type": "markdown",
      "metadata": {
        "id": "view-in-github",
        "colab_type": "text"
      },
      "source": [
        "<a href=\"https://colab.research.google.com/github/ObidulKadir/Python_Basic/blob/master/PythonProblemSolved.ipynb\" target=\"_parent\"><img src=\"https://colab.research.google.com/assets/colab-badge.svg\" alt=\"Open In Colab\"/></a>"
      ]
    },
    {
      "cell_type": "code",
      "metadata": {
        "id": "FRR2ivZGALQy",
        "colab_type": "code",
        "colab": {}
      },
      "source": [
        ""
      ],
      "execution_count": null,
      "outputs": []
    },
    {
      "cell_type": "markdown",
      "metadata": {
        "id": "qnBsgVfdAaOF",
        "colab_type": "text"
      },
      "source": [
        "\n",
        "\n",
        "```\n",
        "Write a python program to ind those numbers which are divisible by 7 and 5 , between 1500 and 2700(both included).\n",
        "```\n",
        "\n"
      ]
    },
    {
      "cell_type": "code",
      "metadata": {
        "id": "89aOwMA-AvPO",
        "colab_type": "code",
        "colab": {
          "base_uri": "https://localhost:8080/",
          "height": 602
        },
        "outputId": "b2536542-5a9f-4d0e-cda4-d49621ae46ef"
      },
      "source": [
        "for i in range(1500,2701):\n",
        "  if(i%5 == 0 and i%7 == 0):\n",
        "    print(i)"
      ],
      "execution_count": 3,
      "outputs": [
        {
          "output_type": "stream",
          "text": [
            "1505\n",
            "1540\n",
            "1575\n",
            "1610\n",
            "1645\n",
            "1680\n",
            "1715\n",
            "1750\n",
            "1785\n",
            "1820\n",
            "1855\n",
            "1890\n",
            "1925\n",
            "1960\n",
            "1995\n",
            "2030\n",
            "2065\n",
            "2100\n",
            "2135\n",
            "2170\n",
            "2205\n",
            "2240\n",
            "2275\n",
            "2310\n",
            "2345\n",
            "2380\n",
            "2415\n",
            "2450\n",
            "2485\n",
            "2520\n",
            "2555\n",
            "2590\n",
            "2625\n",
            "2660\n",
            "2695\n"
          ],
          "name": "stdout"
        }
      ]
    },
    {
      "cell_type": "markdown",
      "metadata": {
        "id": "3JIMZ7lCCQrN",
        "colab_type": "text"
      },
      "source": [
        "2.`Write a python program to count the number of even and odd numbers from a series of numbers.`"
      ]
    },
    {
      "cell_type": "code",
      "metadata": {
        "id": "H06TESo0CPsw",
        "colab_type": "code",
        "colab": {
          "base_uri": "https://localhost:8080/",
          "height": 50
        },
        "outputId": "818d7f9f-4865-4794-c9fa-18bdb3b1dac6"
      },
      "source": [
        "Number = (1,2,3,4,5,6,7)\n",
        "\n",
        "count_even = 0\n",
        "count_odd = 0\n",
        "for value in Number:\n",
        "\tif value % 2 == 0:\n",
        "\t\tcount_even = count_even + 1\n",
        "\telif value % 2 != 0:\n",
        "\t\tcount_odd = count_odd + 1\n",
        "\telse:\n",
        "\t\tprint('Not the numbers:')\n",
        "\n",
        "print('Number of even numbers:',count_even)\n",
        "print('Number of even numbers:',count_odd)\n",
        "\n"
      ],
      "execution_count": 13,
      "outputs": [
        {
          "output_type": "stream",
          "text": [
            "Number of even numbers: 3\n",
            "Number of even numbers: 4\n"
          ],
          "name": "stdout"
        }
      ]
    },
    {
      "cell_type": "code",
      "metadata": {
        "id": "ZIa-FceUJLnV",
        "colab_type": "code",
        "colab": {
          "base_uri": "https://localhost:8080/",
          "height": 157
        },
        "outputId": "3e4e3fac-7925-4ee8-8622-377a3de18626"
      },
      "source": [
        "list = []\n",
        "print('Enter the number of list :')\n",
        "for i in range(0,4):\n",
        "  data=int(input())\n",
        "  list.append(data)\n",
        "print('Number :',list)\n",
        "\n",
        "\n",
        "count_even = 0\n",
        "count_odd = 0\n",
        "for value in list:\n",
        "\tif value % 2 == 0:\n",
        "\t\tcount_even = count_even + 1\n",
        "\telif value % 2 != 0:\n",
        "\t\tcount_odd = count_odd + 1\n",
        "\telse:\n",
        "\t\tprint('Not the numbers:')\n",
        "\n",
        "print('Number of even numbers:',count_even)\n",
        "print('Number of even numbers:',count_odd)\n"
      ],
      "execution_count": 17,
      "outputs": [
        {
          "output_type": "stream",
          "text": [
            "Enter the number of list :\n",
            "2\n",
            "3\n",
            "5\n",
            "7\n",
            "Number : [2, 3, 5, 7]\n",
            "Number of even numbers: 1\n",
            "Number of even numbers: 3\n"
          ],
          "name": "stdout"
        }
      ]
    },
    {
      "cell_type": "markdown",
      "metadata": {
        "id": "WzdIXUSxKRev",
        "colab_type": "text"
      },
      "source": [
        "3.\n",
        "\n",
        "```\n",
        "Write a python program which iterates the integers from 1 to 50.\n",
        "```\n",
        "\n"
      ]
    },
    {
      "cell_type": "code",
      "metadata": {
        "id": "Qo7OT4TUKgEo",
        "colab_type": "code",
        "colab": {
          "base_uri": "https://localhost:8080/",
          "height": 913
        },
        "outputId": "ae697d93-1dc1-45ef-83f7-29b6d9970d9d"
      },
      "source": [
        "for fizzbuzz in range(51):\n",
        "  if fizzbuzz % 3 == 0 and fizzbuzz % 5 == 0:\n",
        "    print(\"fizzbuzz\")\n",
        "    continue\n",
        "  elif fizzbuzz % 3 == 0:\n",
        "    print(\"fizz\")\n",
        "    continue\n",
        "  elif fizzbuzz % 5 == 0:\n",
        "    print(\"buzz\")\n",
        "    continue\n",
        "  else: \n",
        "    print(fizzbuzz)"
      ],
      "execution_count": 29,
      "outputs": [
        {
          "output_type": "stream",
          "text": [
            "fizzbuzz\n",
            "1\n",
            "2\n",
            "fizz\n",
            "4\n",
            "buzz\n",
            "fizz\n",
            "7\n",
            "8\n",
            "fizz\n",
            "buzz\n",
            "11\n",
            "fizz\n",
            "13\n",
            "14\n",
            "fizzbuzz\n",
            "16\n",
            "17\n",
            "fizz\n",
            "19\n",
            "buzz\n",
            "fizz\n",
            "22\n",
            "23\n",
            "fizz\n",
            "buzz\n",
            "26\n",
            "fizz\n",
            "28\n",
            "29\n",
            "fizzbuzz\n",
            "31\n",
            "32\n",
            "fizz\n",
            "34\n",
            "buzz\n",
            "fizz\n",
            "37\n",
            "38\n",
            "fizz\n",
            "buzz\n",
            "41\n",
            "fizz\n",
            "43\n",
            "44\n",
            "fizzbuzz\n",
            "46\n",
            "47\n",
            "fizz\n",
            "49\n",
            "buzz\n"
          ],
          "name": "stdout"
        }
      ]
    },
    {
      "cell_type": "markdown",
      "metadata": {
        "id": "MKAFghaNNYVp",
        "colab_type": "text"
      },
      "source": [
        "4.`Factorial of any number n is represented by n! and is  equal to 1*2*3*....(n-1)*n`"
      ]
    },
    {
      "cell_type": "code",
      "metadata": {
        "id": "S_O_iGGPNrLp",
        "colab_type": "code",
        "colab": {
          "base_uri": "https://localhost:8080/",
          "height": 52
        },
        "outputId": "3ef371de-fe72-492e-9f6a-2d904adccde1"
      },
      "source": [
        "def factorial(n):\n",
        "  if n==0:\n",
        "    return 1\n",
        "  else:\n",
        "    return n * factorial(n-1)\n",
        "\n",
        "n=int(input(\"Input a number to compute the factiorial : \"))\n",
        "print(factorial(n))"
      ],
      "execution_count": 30,
      "outputs": [
        {
          "output_type": "stream",
          "text": [
            "Input a number to compute the factiorial : 5\n",
            "120\n"
          ],
          "name": "stdout"
        }
      ]
    }
  ]
}